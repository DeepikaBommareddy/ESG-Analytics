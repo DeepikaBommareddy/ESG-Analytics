{
  "nbformat": 4,
  "nbformat_minor": 0,
  "metadata": {
    "colab": {
      "provenance": []
    },
    "kernelspec": {
      "name": "python3",
      "display_name": "Python 3"
    },
    "language_info": {
      "name": "python"
    }
  },
  "cells": [
    {
      "cell_type": "code",
      "execution_count": 3,
      "metadata": {
        "colab": {
          "base_uri": "https://localhost:8080/"
        },
        "id": "sfjunT9dRy0s",
        "outputId": "902e9b23-13ec-4247-b80d-ddd81b5f394c"
      },
      "outputs": [
        {
          "output_type": "stream",
          "name": "stdout",
          "text": [
            "Random Forest Classifier\n",
            "Confusion Matrix:\n",
            "[[171 160]\n",
            " [131 771]]\n",
            "\n",
            "Classification Report:\n",
            "              precision    recall  f1-score   support\n",
            "\n",
            "           0       0.57      0.52      0.54       331\n",
            "           1       0.83      0.85      0.84       902\n",
            "\n",
            "    accuracy                           0.76      1233\n",
            "   macro avg       0.70      0.69      0.69      1233\n",
            "weighted avg       0.76      0.76      0.76      1233\n",
            "\n",
            "Accuracy Score: 0.7640\n"
          ]
        }
      ],
      "source": [
        "import pandas as pd\n",
        "from sklearn.model_selection import train_test_split\n",
        "from sklearn.preprocessing import StandardScaler\n",
        "from sklearn.ensemble import RandomForestClassifier\n",
        "from sklearn.metrics import classification_report, confusion_matrix, accuracy_score\n",
        "\n",
        "# Load the dataset\n",
        "file_path = '/content/wbg_merged_cleaned_for_analysis.csv'\n",
        "df = pd.read_csv(file_path)\n",
        "\n",
        "# Clean the data by removing irrelevant columns\n",
        "df_cleaned = df.drop(columns=['project_id_merged', 'countryname', 'boardapprovaldate', 'country_economy_fcs_status'], errors='ignore')\n",
        "\n",
        "# Handle missing values separately for categorical and numerical columns\n",
        "# Categorical columns: fill with the mode (most frequent value)\n",
        "categorical_columns = df_cleaned.select_dtypes(include=['object']).columns\n",
        "df_cleaned[categorical_columns] = df_cleaned[categorical_columns].fillna(df_cleaned[categorical_columns].mode().iloc[0])\n",
        "\n",
        "# Numerical columns: fill with the median\n",
        "numerical_columns = df_cleaned.select_dtypes(include=['number']).columns\n",
        "df_cleaned[numerical_columns] = df_cleaned[numerical_columns].fillna(df_cleaned[numerical_columns].median())\n",
        "\n",
        "# Define the target (outcome_binary) and features\n",
        "df_cleaned['outcome_binary'] = df_cleaned['outcome'].apply(lambda x: 1 if x in ['Satisfactory', 'Moderately Satisfactory'] else 0)  # Binary outcome\n",
        "X = df_cleaned.drop(columns=['outcome', 'outcome_binary'])  # Features\n",
        "y = df_cleaned['outcome_binary']  # Target variable\n",
        "\n",
        "# One-hot encode categorical variables\n",
        "X = pd.get_dummies(X)\n",
        "\n",
        "# Split the data into training and testing sets (80/20 split)\n",
        "X_train, X_test, y_train, y_test = train_test_split(X, y, test_size=0.2, random_state=42)\n",
        "\n",
        "# Standardize the data (important for models sensitive to feature scaling)\n",
        "scaler = StandardScaler()\n",
        "X_train_scaled = scaler.fit_transform(X_train)\n",
        "X_test_scaled = scaler.transform(X_test)\n",
        "\n",
        "# Initialize and train the Random Forest model\n",
        "rf = RandomForestClassifier(n_estimators=100, random_state=42)\n",
        "rf.fit(X_train_scaled, y_train)\n",
        "\n",
        "# Make predictions on the test set\n",
        "y_pred_rf = rf.predict(X_test_scaled)\n",
        "\n",
        "# Evaluate the model\n",
        "conf_matrix = confusion_matrix(y_test, y_pred_rf)\n",
        "class_report = classification_report(y_test, y_pred_rf)\n",
        "accuracy = accuracy_score(y_test, y_pred_rf)\n",
        "\n",
        "print(\"Random Forest Classifier\")\n",
        "print(\"Confusion Matrix:\")\n",
        "print(conf_matrix)\n",
        "print(\"\\nClassification Report:\")\n",
        "print(class_report)\n",
        "print(f\"Accuracy Score: {accuracy:.4f}\")\n"
      ]
    },
    {
      "cell_type": "code",
      "source": [
        "#Logistic Regression\n",
        "from sklearn.linear_model import LogisticRegression\n",
        "log_reg = LogisticRegression(random_state=42)\n",
        "log_reg.fit(X_train_scaled, y_train)\n",
        "y_pred_log_reg = log_reg.predict(X_test_scaled)\n",
        "conf_matrix_log_reg = confusion_matrix(y_test, y_pred_log_reg)\n",
        "class_report_log_reg = classification_report(y_test, y_pred_log_reg)\n",
        "accuracy_log_reg = accuracy_score(y_test, y_pred_log_reg)\n",
        "\n",
        "print(\"Logistic Regression\")\n",
        "print(\"Confusion Matrix:\\n\", conf_matrix_log_reg)\n",
        "print(\"\\nClassification Report:\\n\", class_report_log_reg)\n",
        "print(f\"Accuracy Score: {accuracy_log_reg:.4f}\\n\")"
      ],
      "metadata": {
        "colab": {
          "base_uri": "https://localhost:8080/"
        },
        "id": "eRwSg4iWSXEn",
        "outputId": "19529162-62ae-4cd2-9a29-a0a629e79021"
      },
      "execution_count": 6,
      "outputs": [
        {
          "output_type": "stream",
          "name": "stdout",
          "text": [
            "Logistic Regression\n",
            "Confusion Matrix:\n",
            " [[178 153]\n",
            " [113 789]]\n",
            "\n",
            "Classification Report:\n",
            "               precision    recall  f1-score   support\n",
            "\n",
            "           0       0.61      0.54      0.57       331\n",
            "           1       0.84      0.87      0.86       902\n",
            "\n",
            "    accuracy                           0.78      1233\n",
            "   macro avg       0.72      0.71      0.71      1233\n",
            "weighted avg       0.78      0.78      0.78      1233\n",
            "\n",
            "Accuracy Score: 0.7843\n",
            "\n"
          ]
        }
      ]
    },
    {
      "cell_type": "code",
      "source": [
        "#XGBoost\n",
        "import xgboost as xgb\n",
        "xgb_model = xgb.XGBClassifier(random_state=42)\n",
        "xgb_model.fit(X_train_scaled, y_train)\n",
        "y_pred_xgb = xgb_model.predict(X_test_scaled)\n",
        "conf_matrix_xgb = confusion_matrix(y_test, y_pred_xgb)\n",
        "class_report_xgb = classification_report(y_test, y_pred_xgb)\n",
        "accuracy_xgb = accuracy_score(y_test, y_pred_xgb)\n",
        "print(\" XGBoost Classifier\")\n",
        "print(\"Confusion Matrix:\\n\", conf_matrix_xgb)\n",
        "print(\"\\nClassification Report:\\n\", class_report_xgb)\n",
        "print(f\"Accuracy Score: {accuracy_xgb:.4f}\\n\")"
      ],
      "metadata": {
        "colab": {
          "base_uri": "https://localhost:8080/"
        },
        "id": "oOEAFQ7qSvaL",
        "outputId": "efa8c518-24db-4e83-a1f5-a9170d0d4614"
      },
      "execution_count": 9,
      "outputs": [
        {
          "output_type": "stream",
          "name": "stdout",
          "text": [
            " XGBoost Classifier\n",
            "Confusion Matrix:\n",
            " [[161 170]\n",
            " [108 794]]\n",
            "\n",
            "Classification Report:\n",
            "               precision    recall  f1-score   support\n",
            "\n",
            "           0       0.60      0.49      0.54       331\n",
            "           1       0.82      0.88      0.85       902\n",
            "\n",
            "    accuracy                           0.77      1233\n",
            "   macro avg       0.71      0.68      0.69      1233\n",
            "weighted avg       0.76      0.77      0.77      1233\n",
            "\n",
            "Accuracy Score: 0.7745\n",
            "\n"
          ]
        }
      ]
    },
    {
      "cell_type": "code",
      "source": [
        "#Support Vector Machine (SVM)\n",
        "from sklearn.svm import SVC\n",
        "svm = SVC(kernel='linear', probability=True, random_state=42)\n",
        "svm.fit(X_train_scaled, y_train)\n",
        "y_pred_svm = svm.predict(X_test_scaled)\n",
        "conf_matrix_svm = confusion_matrix(y_test, y_pred_svm)\n",
        "class_report_svm = classification_report(y_test, y_pred_svm)\n",
        "accuracy_svm = accuracy_score(y_test, y_pred_svm)\n",
        "print(\"Support Vector Machine (SVM)\")\n",
        "print(\"Confusion Matrix:\\n\", conf_matrix_svm)\n",
        "print(\"\\nClassification Report:\\n\", class_report_svm)\n",
        "print(f\"Accuracy Score: {accuracy_svm:.4f}\")"
      ],
      "metadata": {
        "colab": {
          "base_uri": "https://localhost:8080/"
        },
        "id": "kYVHQk2WTADz",
        "outputId": "2d6e4182-de4e-41a2-f62f-289e1c25f0fa"
      },
      "execution_count": 10,
      "outputs": [
        {
          "output_type": "stream",
          "name": "stdout",
          "text": [
            "Support Vector Machine (SVM)\n",
            "Confusion Matrix:\n",
            " [[211 120]\n",
            " [145 757]]\n",
            "\n",
            "Classification Report:\n",
            "               precision    recall  f1-score   support\n",
            "\n",
            "           0       0.59      0.64      0.61       331\n",
            "           1       0.86      0.84      0.85       902\n",
            "\n",
            "    accuracy                           0.79      1233\n",
            "   macro avg       0.73      0.74      0.73      1233\n",
            "weighted avg       0.79      0.79      0.79      1233\n",
            "\n",
            "Accuracy Score: 0.7851\n"
          ]
        }
      ]
    }
  ]
}